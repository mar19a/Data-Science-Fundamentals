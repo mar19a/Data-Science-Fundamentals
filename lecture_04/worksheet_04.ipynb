{
 "cells": [
  {
   "attachments": {},
   "cell_type": "markdown",
   "metadata": {},
   "source": [
    "# Worksheet 04\n",
    "\n",
    "Name:  Mariano Majano Amaya\n",
    "UID: U56063451\n",
    "\n",
    "### Topics\n",
    "\n",
    "- Distance & Similarity"
   ]
  },
  {
   "cell_type": "markdown",
   "metadata": {},
   "source": [
    "### Distance & Similarity\n",
    "\n",
    "#### Part 1\n",
    "\n",
    "a) In the minkowski distance, describe what the parameters p and d are."
   ]
  },
  {
   "cell_type": "markdown",
   "metadata": {},
   "source": [
    "- p is an arbitrary parameter that must be >= 1\n",
    "- d is the number of dimensions x and y have"
   ]
  },
  {
   "cell_type": "markdown",
   "metadata": {},
   "source": [
    "b) In your own words describe the difference between the Euclidean distance and the Manhattan distance."
   ]
  },
  {
   "cell_type": "markdown",
   "metadata": {},
   "source": [
    "The main difference between these distance metrics is how they measure distances; when p=2 it is Euclidean distance and when p=1 it is Manhattan distance. Euclidean distance calculates the shortest straight-line distance, while Manhattan distance calculates the distance along a grid-like path."
   ]
  },
  {
   "attachments": {},
   "cell_type": "markdown",
   "metadata": {},
   "source": [
    "Consider A = (0, 0) and B = (1, 1). When:\n",
    "\n",
    "- p = 1, d(A, B) = 2\n",
    "- p = 2, d(A, B) = $\\sqrt{2} = 1.41$\n",
    "- p = 3, d(A, B) = $2^{1/3} = 1.26$\n",
    "- p = 4, d(A, B) = $2^{1/4} = 1.19$\n",
    "\n",
    "c) Describe what you think distance would look like when p is very large."
   ]
  },
  {
   "cell_type": "markdown",
   "metadata": {},
   "source": [
    "The distance will get very close but never get exactly to 1 as p gets very large."
   ]
  },
  {
   "cell_type": "markdown",
   "metadata": {},
   "source": [
    "d) Is the minkowski distance still a distance function when p < 1? Expain why / why not."
   ]
  },
  {
   "cell_type": "markdown",
   "metadata": {},
   "source": [
    "No. Counter-example:  \n",
    "Suppose A(0,0), B(1,0), C(0,1). Then D(B,A) = D(A,C) = 1 and D(B,C) = $2^{1/p}$. If p < 1, then 1/p > 1. So D(B,C) > D(B,A) + D (A,C). However, this violates the triangular inequality, so it would not be a distance function."
   ]
  },
  {
   "cell_type": "markdown",
   "metadata": {},
   "source": [
    "e) when would you use cosine similarity over the euclidan distance?"
   ]
  },
  {
   "cell_type": "markdown",
   "metadata": {},
   "source": [
    "When direction matters more than magnitude, e.g: a dataset like a document and an abstract describing that document would yield a large Euclidean distance but a small cosine distance as they both talk about the same topic."
   ]
  },
  {
   "cell_type": "markdown",
   "metadata": {},
   "source": [
    "f) what does the jaccard distance account for that the manhattan distance doesn't?"
   ]
  },
  {
   "cell_type": "markdown",
   "metadata": {},
   "source": [
    "The Jaccard also takes into consideration the size of the intersection which Manhattan doesn't do. More technically, the Jaccard distance considers the relative similarity of sets by considering the intersection over the union."
   ]
  },
  {
   "attachments": {},
   "cell_type": "markdown",
   "metadata": {},
   "source": [
    "#### Part 2\n",
    "\n",
    "Consider the following two sentences:"
   ]
  },
  {
   "cell_type": "code",
   "execution_count": null,
   "metadata": {},
   "outputs": [],
   "source": [
    "s1 = \"hello my name is Alice\"  \n",
    "s2 = \"hello my name is Bob\""
   ]
  },
  {
   "cell_type": "markdown",
   "metadata": {},
   "source": [
    "using the union of words from both sentences, we can represent each sentence as a vector. Each element of the vector represents the presence or absence of the word at that index.\n",
    "\n",
    "In this example, the union of words is (\"hello\", \"my\", \"name\", \"is\", \"Alice\", \"Bob\") so we can represent the above sentences as such:"
   ]
  },
  {
   "cell_type": "code",
   "execution_count": null,
   "metadata": {},
   "outputs": [],
   "source": [
    "v1 = [1,    1, 1,   1, 1,    0]\n",
    "#     hello my name is Alice\n",
    "v2 = [1,    1, 1,   1, 0, 1]\n",
    "#     hello my name is    Bob"
   ]
  },
  {
   "attachments": {},
   "cell_type": "markdown",
   "metadata": {},
   "source": [
    "Programmatically, we can do the following:"
   ]
  },
  {
   "cell_type": "code",
   "execution_count": null,
   "metadata": {},
   "outputs": [
    {
     "name": "stdout",
     "output_type": "stream",
     "text": [
      "['hello', 'Bob', 'is', 'name', 'my', 'Alice']\n",
      "[1, 0, 1, 1, 1, 1]\n"
     ]
    }
   ],
   "source": [
    "corpus = [s1, s2]\n",
    "all_words = list(set([item for x in corpus for item in x.split()]))\n",
    "print(all_words)\n",
    "v1 = [1 if x in s1 else 0 for x in all_words]\n",
    "print(v1)"
   ]
  },
  {
   "cell_type": "markdown",
   "metadata": {},
   "source": [
    "Let's add a new sentence to our corpus:"
   ]
  },
  {
   "cell_type": "code",
   "execution_count": null,
   "metadata": {},
   "outputs": [],
   "source": [
    "s3 = \"hi my name is Claude\"\n",
    "corpus.append(s3)"
   ]
  },
  {
   "cell_type": "markdown",
   "metadata": {},
   "source": [
    "a) What is the new union of words used to represent s1, s2, and s3?"
   ]
  },
  {
   "cell_type": "code",
   "execution_count": 7,
   "metadata": {},
   "outputs": [
    {
     "name": "stdout",
     "output_type": "stream",
     "text": [
      "['is', 'Claude', 'name', 'my', 'hello', 'Alice', 'hi', 'Bob']\n"
     ]
    }
   ],
   "source": [
    "s1 = \"hello my name is Alice\"  \n",
    "s2 = \"hello my name is Bob\"\n",
    "s3 = \"hi my name is Claude\"\n",
    "corpus = [s1, s2, s3]\n",
    "all_words = list(set([item for x in corpus for item in x.split()]))\n",
    "print(all_words)\n",
    "\n"
   ]
  },
  {
   "attachments": {},
   "cell_type": "markdown",
   "metadata": {},
   "source": [
    "b) Represent s1, s2, and s3 as vectors as above, using this new set of words."
   ]
  },
  {
   "cell_type": "code",
   "execution_count": 8,
   "metadata": {},
   "outputs": [
    {
     "name": "stdout",
     "output_type": "stream",
     "text": [
      "['is', 'Claude', 'name', 'my', 'hello', 'Alice', 'hi', 'Bob']\n",
      "[1, 0, 1, 1, 1, 1, 0, 0]\n",
      "[1, 0, 1, 1, 1, 0, 0, 1]\n",
      "[1, 1, 1, 1, 0, 0, 1, 0]\n"
     ]
    }
   ],
   "source": [
    "print(all_words)\n",
    "v1 = [1 if x in s1 else 0 for x in all_words]\n",
    "print(v1)\n",
    "v2 = [1 if x in s2 else 0 for x in all_words]\n",
    "print(v2)\n",
    "v3 = [1 if x in s3 else 0 for x in all_words]\n",
    "print(v3)"
   ]
  },
  {
   "cell_type": "markdown",
   "metadata": {},
   "source": [
    "c) Write a function that computes the manhattan distance between two vectors. Which pair of vectors are the most similar under that distance function?"
   ]
  },
  {
   "cell_type": "code",
   "execution_count": 12,
   "metadata": {},
   "outputs": [
    {
     "name": "stdout",
     "output_type": "stream",
     "text": [
      "v1/v2 dist: 2 \n",
      "v1/v3 dist: 4 \n",
      "v2/v3 dist: 4 \n",
      "most similar: v1-v2\n"
     ]
    }
   ],
   "source": [
    "def manhattan_distance(vector1, vector2):\n",
    "    return sum(abs(val1 - val2) for val1, val2 in zip(vector1, vector2))\n",
    "\n",
    "\n",
    "distance_v1_v2 = manhattan_distance(v1, v2)\n",
    "distance_v1_v3 = manhattan_distance(v1, v3)\n",
    "distance_v2_v3 = manhattan_distance(v2, v3)\n",
    "\n",
    "distances = {\n",
    "    \"v1-v2\": distance_v1_v2,\n",
    "    \"v1-v3\": distance_v1_v3,\n",
    "    \"v2-v3\": distance_v2_v3\n",
    "}\n",
    "\n",
    "most_similar = min(distances, key=distances.get)\n",
    "\n",
    "print(\"v1/v2 dist:\", distance_v1_v2, \"\\nv1/v3 dist:\", distance_v1_v3, \"\\nv2/v3 dist:\", distance_v2_v3, \"\\nmost similar:\", most_similar)"
   ]
  },
  {
   "cell_type": "markdown",
   "metadata": {},
   "source": []
  },
  {
   "cell_type": "markdown",
   "metadata": {},
   "source": [
    "d) Create a matrix of all these vectors (row major) and add the following sentences in vector form:\n",
    "\n",
    "- \"hi Alice\"\n",
    "- \"hello Claude\"\n",
    "- \"Bob my name is Claude\"\n",
    "- \"hi Claude my name is Alice\"\n",
    "- \"hello Bob\""
   ]
  },
  {
   "cell_type": "code",
   "execution_count": 17,
   "metadata": {},
   "outputs": [
    {
     "name": "stdout",
     "output_type": "stream",
     "text": [
      "['Claude', 'is', 'my', 'hello', 'name', 'Alice', 'hi', 'Bob']\n",
      "[0, 0, 0, 0, 0, 1, 1, 0]\n",
      "[1, 0, 0, 1, 0, 0, 0, 0]\n",
      "[1, 1, 1, 0, 1, 0, 0, 1]\n",
      "[1, 1, 1, 0, 1, 1, 1, 0]\n",
      "[0, 0, 0, 1, 0, 0, 0, 1]\n"
     ]
    }
   ],
   "source": [
    "corpus = [\"hi Alice\", \"hello Claude\", \"Bob my name is Claude\", \"hi Claude my name is Alice\", \"hello Bob\"]\n",
    "all_words = list(set([item for x in corpus for item in x.split()]))\n",
    "print(all_words)\n",
    "\n",
    "matrix = [[1 if word in sentence else 0 for word in all_words] for sentence in corpus]\n",
    "\n",
    "for vector in matrix:\n",
    "    print(vector)"
   ]
  },
  {
   "cell_type": "markdown",
   "metadata": {},
   "source": [
    "e) How many rows and columns does this matrix have?"
   ]
  },
  {
   "cell_type": "code",
   "execution_count": 18,
   "metadata": {},
   "outputs": [
    {
     "name": "stdout",
     "output_type": "stream",
     "text": [
      "rows: 5\n",
      "columns 8\n"
     ]
    }
   ],
   "source": [
    "rows = len(matrix)\n",
    "cols = len(matrix[0])\n",
    "\n",
    "print(\"rows:\", rows)\n",
    "print(\"columns\", cols)"
   ]
  },
  {
   "attachments": {},
   "cell_type": "markdown",
   "metadata": {},
   "source": [
    "f) When using the Manhattan distance, which two sentences are the most similar?"
   ]
  },
  {
   "cell_type": "code",
   "execution_count": 19,
   "metadata": {},
   "outputs": [
    {
     "name": "stdout",
     "output_type": "stream",
     "text": [
      "(1, 4)\n",
      "[1, 0, 0, 1, 0, 0, 0, 0] [0, 0, 0, 1, 0, 0, 0, 1]\n"
     ]
    }
   ],
   "source": [
    "minimum = manhattan_dist(matrix[0], matrix[1])\n",
    "vectors = (0, 1)\n",
    "for i in range(1, len(matrix)):\n",
    "    for j in range(i, len(matrix)):\n",
    "        if i != j:\n",
    "            new_min = manhattan_dist(matrix[i], matrix[j])\n",
    "            if minimum > new_min:\n",
    "                minimum = new_min\n",
    "                vectors = (i, j)\n",
    "print(vectors)\n",
    "print(matrix[vectors[0]], matrix[vectors[1]])"
   ]
  },
  {
   "cell_type": "markdown",
   "metadata": {},
   "source": [
    "#### Part 3 Challenge"
   ]
  },
  {
   "cell_type": "markdown",
   "metadata": {},
   "source": [
    "Given a set of graphs $\\mathcal{G}$, each graph $G \\in \\mathcal{G}$ is defined over the same set of nodes $V$. The graphs are represented by their adjacency matrices, which are 2D arrays where each element indicates whether a pair of nodes is connected by an edge.\n",
    "\n",
    "Your task is to compute the pairwise distances between these graphs based on a specific distance metric. The distance $d(G, G')$ between two graphs $G = (V, E)$ and $G' = (V, E')$ is defined as the sum of the number of edges in $G$ but not in $G'$, and the number of edges in $G'$ but not in $G$. Mathematically, this can be expressed as:\n",
    "\n",
    "$$\n",
    "d(G, G') = |E \\setminus E'| + |E' \\setminus E|.\n",
    "$$\n",
    "\n",
    "##### Requirements:\n",
    "1. **Input**: Should take a list of 2D numpy arrays as input. Each array represents the adjacency matrix of a graph.\n",
    "\n",
    "2. **Output**: Should output a pairwise distance matrix. If there are $n$ graphs in the input list, the output should be an $n \\times n$ matrix where the entry at position $(i, j)$ represents the distance between the $i^{th}$ and $j^{th}$ graph."
   ]
  },
  {
   "cell_type": "code",
   "execution_count": 20,
   "metadata": {},
   "outputs": [
    {
     "name": "stdout",
     "output_type": "stream",
     "text": [
      "[[0 6 2]\n",
      " [6 0 8]\n",
      " [2 8 0]]\n"
     ]
    }
   ],
   "source": [
    "import numpy as np\n",
    "\n",
    "def compute_graph_distance_matrix(graphs):\n",
    "    num_graphs = len(graphs)\n",
    "    distance_matrix = np.zeros((num_graphs, num_graphs), dtype=int)\n",
    "    \n",
    "    # Compute pairwise distances\n",
    "    for i in range(num_graphs):\n",
    "        for j in range(i+1, num_graphs):\n",
    "            # Calculate the symmetric difference between two adjacency matrices\n",
    "            distance = np.sum(np.abs(graphs[i] - graphs[j]))\n",
    "            distance_matrix[i][j] = distance\n",
    "            distance_matrix[j][i] = distance  # The distance matrix is symmetric\n",
    "    \n",
    "    return distance_matrix\n",
    "\n",
    "# Define adjacency matrices for each graph\n",
    "graph1 = np.array([\n",
    "    [0, 1, 1, 0],\n",
    "    [1, 0, 1, 0],\n",
    "    [1, 1, 0, 1],\n",
    "    [0, 0, 1, 0]\n",
    "])\n",
    "\n",
    "graph2 = np.array([\n",
    "    [0, 1, 0, 1],\n",
    "    [1, 0, 1, 1],\n",
    "    [0, 1, 0, 1],\n",
    "    [1, 1, 1, 0]\n",
    "])\n",
    "\n",
    "graph3 = np.array([\n",
    "    [0, 0, 1, 0],\n",
    "    [0, 0, 1, 0],\n",
    "    [1, 1, 0, 1],\n",
    "    [0, 0, 1, 0]\n",
    "])\n",
    "\n",
    "# Create a list of graphs\n",
    "graphs = [graph1, graph2, graph3]\n",
    "\n",
    "# Compute the pairwise distance matrix\n",
    "distance_matrix = compute_graph_distance_matrix(graphs)\n",
    "print(distance_matrix)\n"
   ]
  }
 ],
 "metadata": {
  "kernelspec": {
   "display_name": "Python 3",
   "language": "python",
   "name": "python3"
  },
  "language_info": {
   "codemirror_mode": {
    "name": "ipython",
    "version": 3
   },
   "file_extension": ".py",
   "mimetype": "text/x-python",
   "name": "python",
   "nbconvert_exporter": "python",
   "pygments_lexer": "ipython3",
   "version": "3.9.6"
  },
  "orig_nbformat": 4,
  "vscode": {
   "interpreter": {
    "hash": "76ca05dc3ea24b2e3b98cdb7774adfbb40773424bf5109b477fd793f623715af"
   }
  }
 },
 "nbformat": 4,
 "nbformat_minor": 2
}
